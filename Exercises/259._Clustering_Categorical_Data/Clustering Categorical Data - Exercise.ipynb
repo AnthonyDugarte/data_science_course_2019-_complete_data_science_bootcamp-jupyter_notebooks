{
 "cells": [
  {
   "cell_type": "markdown",
   "metadata": {},
   "source": [
    "# Clustering Categorical Data "
   ]
  },
  {
   "cell_type": "markdown",
   "metadata": {},
   "source": [
    "You are given much more country data. Using the same methodology as the one in the lecture, group all the countries in 2 clusters. \n",
    "\n",
    "<b> Already done that? Okay! </b>\n",
    "    \n",
    "There are other features: name and continent. \n",
    "\n",
    "Encode the continent one and use it in the clustering solution. Think about the difference with the previous exercise."
   ]
  },
  {
   "cell_type": "markdown",
   "metadata": {},
   "source": [
    "## Import the relevant libraries"
   ]
  },
  {
   "cell_type": "code",
   "execution_count": 2,
   "metadata": {},
   "outputs": [],
   "source": [
    "import numpy as np\n",
    "import pandas as pd\n",
    "import matplotlib.pyplot as plt\n",
    "import seaborn as sns\n",
    "sns.set()\n",
    "\n",
    "from sklearn.cluster import KMeans"
   ]
  },
  {
   "cell_type": "markdown",
   "metadata": {},
   "source": [
    "## Load the data"
   ]
  },
  {
   "cell_type": "markdown",
   "metadata": {},
   "source": [
    "Load data from the csv file: <i> 'Categorical.csv'</i>."
   ]
  },
  {
   "cell_type": "code",
   "execution_count": 37,
   "metadata": {},
   "outputs": [
    {
     "data": {
      "text/html": [
       "<div>\n",
       "<style scoped>\n",
       "    .dataframe tbody tr th:only-of-type {\n",
       "        vertical-align: middle;\n",
       "    }\n",
       "\n",
       "    .dataframe tbody tr th {\n",
       "        vertical-align: top;\n",
       "    }\n",
       "\n",
       "    .dataframe thead th {\n",
       "        text-align: right;\n",
       "    }\n",
       "</style>\n",
       "<table border=\"1\" class=\"dataframe\">\n",
       "  <thead>\n",
       "    <tr style=\"text-align: right;\">\n",
       "      <th></th>\n",
       "      <th>name</th>\n",
       "      <th>Longitude</th>\n",
       "      <th>Latitude</th>\n",
       "      <th>continent</th>\n",
       "    </tr>\n",
       "  </thead>\n",
       "  <tbody>\n",
       "    <tr>\n",
       "      <td>0</td>\n",
       "      <td>Aruba</td>\n",
       "      <td>-69.982677</td>\n",
       "      <td>12.520880</td>\n",
       "      <td>North America</td>\n",
       "    </tr>\n",
       "    <tr>\n",
       "      <td>1</td>\n",
       "      <td>Afghanistan</td>\n",
       "      <td>66.004734</td>\n",
       "      <td>33.835231</td>\n",
       "      <td>Asia</td>\n",
       "    </tr>\n",
       "    <tr>\n",
       "      <td>2</td>\n",
       "      <td>Angola</td>\n",
       "      <td>17.537368</td>\n",
       "      <td>-12.293361</td>\n",
       "      <td>Africa</td>\n",
       "    </tr>\n",
       "    <tr>\n",
       "      <td>3</td>\n",
       "      <td>Anguilla</td>\n",
       "      <td>-63.064989</td>\n",
       "      <td>18.223959</td>\n",
       "      <td>North America</td>\n",
       "    </tr>\n",
       "    <tr>\n",
       "      <td>4</td>\n",
       "      <td>Albania</td>\n",
       "      <td>20.049834</td>\n",
       "      <td>41.142450</td>\n",
       "      <td>Europe</td>\n",
       "    </tr>\n",
       "    <tr>\n",
       "      <td>...</td>\n",
       "      <td>...</td>\n",
       "      <td>...</td>\n",
       "      <td>...</td>\n",
       "      <td>...</td>\n",
       "    </tr>\n",
       "    <tr>\n",
       "      <td>236</td>\n",
       "      <td>Samoa</td>\n",
       "      <td>-172.164851</td>\n",
       "      <td>-13.753243</td>\n",
       "      <td>Oceania</td>\n",
       "    </tr>\n",
       "    <tr>\n",
       "      <td>237</td>\n",
       "      <td>Yemen</td>\n",
       "      <td>47.586762</td>\n",
       "      <td>15.909280</td>\n",
       "      <td>Asia</td>\n",
       "    </tr>\n",
       "    <tr>\n",
       "      <td>238</td>\n",
       "      <td>South Africa</td>\n",
       "      <td>25.083901</td>\n",
       "      <td>-29.000341</td>\n",
       "      <td>Africa</td>\n",
       "    </tr>\n",
       "    <tr>\n",
       "      <td>239</td>\n",
       "      <td>Zambia</td>\n",
       "      <td>27.774759</td>\n",
       "      <td>-13.458242</td>\n",
       "      <td>Africa</td>\n",
       "    </tr>\n",
       "    <tr>\n",
       "      <td>240</td>\n",
       "      <td>Zimbabwe</td>\n",
       "      <td>29.851441</td>\n",
       "      <td>-19.004204</td>\n",
       "      <td>Africa</td>\n",
       "    </tr>\n",
       "  </tbody>\n",
       "</table>\n",
       "<p>241 rows × 4 columns</p>\n",
       "</div>"
      ],
      "text/plain": [
       "             name   Longitude   Latitude      continent\n",
       "0           Aruba  -69.982677  12.520880  North America\n",
       "1     Afghanistan   66.004734  33.835231           Asia\n",
       "2          Angola   17.537368 -12.293361         Africa\n",
       "3        Anguilla  -63.064989  18.223959  North America\n",
       "4         Albania   20.049834  41.142450         Europe\n",
       "..            ...         ...        ...            ...\n",
       "236         Samoa -172.164851 -13.753243        Oceania\n",
       "237         Yemen   47.586762  15.909280           Asia\n",
       "238  South Africa   25.083901 -29.000341         Africa\n",
       "239        Zambia   27.774759 -13.458242         Africa\n",
       "240      Zimbabwe   29.851441 -19.004204         Africa\n",
       "\n",
       "[241 rows x 4 columns]"
      ]
     },
     "execution_count": 37,
     "metadata": {},
     "output_type": "execute_result"
    }
   ],
   "source": [
    "raw_data = pd.read_csv('./Categorical.csv')\n",
    "raw_data"
   ]
  },
  {
   "cell_type": "markdown",
   "metadata": {},
   "source": [
    "Remove the duplicate index column from the dataset. "
   ]
  },
  {
   "cell_type": "code",
   "execution_count": null,
   "metadata": {},
   "outputs": [],
   "source": []
  },
  {
   "cell_type": "markdown",
   "metadata": {},
   "source": [
    "## Map the data"
   ]
  },
  {
   "cell_type": "markdown",
   "metadata": {},
   "source": [
    "Use the <i>'continent'</i> category for this analysis."
   ]
  },
  {
   "cell_type": "code",
   "execution_count": 43,
   "metadata": {},
   "outputs": [
    {
     "data": {
      "text/html": [
       "<div>\n",
       "<style scoped>\n",
       "    .dataframe tbody tr th:only-of-type {\n",
       "        vertical-align: middle;\n",
       "    }\n",
       "\n",
       "    .dataframe tbody tr th {\n",
       "        vertical-align: top;\n",
       "    }\n",
       "\n",
       "    .dataframe thead th {\n",
       "        text-align: right;\n",
       "    }\n",
       "</style>\n",
       "<table border=\"1\" class=\"dataframe\">\n",
       "  <thead>\n",
       "    <tr style=\"text-align: right;\">\n",
       "      <th></th>\n",
       "      <th>name</th>\n",
       "      <th>Longitude</th>\n",
       "      <th>Latitude</th>\n",
       "      <th>continent</th>\n",
       "    </tr>\n",
       "  </thead>\n",
       "  <tbody>\n",
       "    <tr>\n",
       "      <td>0</td>\n",
       "      <td>Aruba</td>\n",
       "      <td>-69.982677</td>\n",
       "      <td>12.520880</td>\n",
       "      <td>4</td>\n",
       "    </tr>\n",
       "    <tr>\n",
       "      <td>1</td>\n",
       "      <td>Afghanistan</td>\n",
       "      <td>66.004734</td>\n",
       "      <td>33.835231</td>\n",
       "      <td>2</td>\n",
       "    </tr>\n",
       "    <tr>\n",
       "      <td>2</td>\n",
       "      <td>Angola</td>\n",
       "      <td>17.537368</td>\n",
       "      <td>-12.293361</td>\n",
       "      <td>0</td>\n",
       "    </tr>\n",
       "    <tr>\n",
       "      <td>3</td>\n",
       "      <td>Anguilla</td>\n",
       "      <td>-63.064989</td>\n",
       "      <td>18.223959</td>\n",
       "      <td>4</td>\n",
       "    </tr>\n",
       "    <tr>\n",
       "      <td>4</td>\n",
       "      <td>Albania</td>\n",
       "      <td>20.049834</td>\n",
       "      <td>41.142450</td>\n",
       "      <td>3</td>\n",
       "    </tr>\n",
       "    <tr>\n",
       "      <td>...</td>\n",
       "      <td>...</td>\n",
       "      <td>...</td>\n",
       "      <td>...</td>\n",
       "      <td>...</td>\n",
       "    </tr>\n",
       "    <tr>\n",
       "      <td>236</td>\n",
       "      <td>Samoa</td>\n",
       "      <td>-172.164851</td>\n",
       "      <td>-13.753243</td>\n",
       "      <td>5</td>\n",
       "    </tr>\n",
       "    <tr>\n",
       "      <td>237</td>\n",
       "      <td>Yemen</td>\n",
       "      <td>47.586762</td>\n",
       "      <td>15.909280</td>\n",
       "      <td>2</td>\n",
       "    </tr>\n",
       "    <tr>\n",
       "      <td>238</td>\n",
       "      <td>South Africa</td>\n",
       "      <td>25.083901</td>\n",
       "      <td>-29.000341</td>\n",
       "      <td>0</td>\n",
       "    </tr>\n",
       "    <tr>\n",
       "      <td>239</td>\n",
       "      <td>Zambia</td>\n",
       "      <td>27.774759</td>\n",
       "      <td>-13.458242</td>\n",
       "      <td>0</td>\n",
       "    </tr>\n",
       "    <tr>\n",
       "      <td>240</td>\n",
       "      <td>Zimbabwe</td>\n",
       "      <td>29.851441</td>\n",
       "      <td>-19.004204</td>\n",
       "      <td>0</td>\n",
       "    </tr>\n",
       "  </tbody>\n",
       "</table>\n",
       "<p>241 rows × 4 columns</p>\n",
       "</div>"
      ],
      "text/plain": [
       "             name   Longitude   Latitude  continent\n",
       "0           Aruba  -69.982677  12.520880          4\n",
       "1     Afghanistan   66.004734  33.835231          2\n",
       "2          Angola   17.537368 -12.293361          0\n",
       "3        Anguilla  -63.064989  18.223959          4\n",
       "4         Albania   20.049834  41.142450          3\n",
       "..            ...         ...        ...        ...\n",
       "236         Samoa -172.164851 -13.753243          5\n",
       "237         Yemen   47.586762  15.909280          2\n",
       "238  South Africa   25.083901 -29.000341          0\n",
       "239        Zambia   27.774759 -13.458242          0\n",
       "240      Zimbabwe   29.851441 -19.004204          0\n",
       "\n",
       "[241 rows x 4 columns]"
      ]
     },
     "execution_count": 43,
     "metadata": {},
     "output_type": "execute_result"
    }
   ],
   "source": [
    "data = raw_data.copy()\n",
    "data['continent'] = data['continent'].astype('category').cat.codes\n",
    "\n",
    "data"
   ]
  },
  {
   "cell_type": "markdown",
   "metadata": {},
   "source": [
    "## Select the features"
   ]
  },
  {
   "cell_type": "code",
   "execution_count": 46,
   "metadata": {},
   "outputs": [
    {
     "data": {
      "text/html": [
       "<div>\n",
       "<style scoped>\n",
       "    .dataframe tbody tr th:only-of-type {\n",
       "        vertical-align: middle;\n",
       "    }\n",
       "\n",
       "    .dataframe tbody tr th {\n",
       "        vertical-align: top;\n",
       "    }\n",
       "\n",
       "    .dataframe thead th {\n",
       "        text-align: right;\n",
       "    }\n",
       "</style>\n",
       "<table border=\"1\" class=\"dataframe\">\n",
       "  <thead>\n",
       "    <tr style=\"text-align: right;\">\n",
       "      <th></th>\n",
       "      <th>continent</th>\n",
       "    </tr>\n",
       "  </thead>\n",
       "  <tbody>\n",
       "    <tr>\n",
       "      <td>0</td>\n",
       "      <td>4</td>\n",
       "    </tr>\n",
       "    <tr>\n",
       "      <td>1</td>\n",
       "      <td>2</td>\n",
       "    </tr>\n",
       "    <tr>\n",
       "      <td>2</td>\n",
       "      <td>0</td>\n",
       "    </tr>\n",
       "    <tr>\n",
       "      <td>3</td>\n",
       "      <td>4</td>\n",
       "    </tr>\n",
       "    <tr>\n",
       "      <td>4</td>\n",
       "      <td>3</td>\n",
       "    </tr>\n",
       "    <tr>\n",
       "      <td>...</td>\n",
       "      <td>...</td>\n",
       "    </tr>\n",
       "    <tr>\n",
       "      <td>236</td>\n",
       "      <td>5</td>\n",
       "    </tr>\n",
       "    <tr>\n",
       "      <td>237</td>\n",
       "      <td>2</td>\n",
       "    </tr>\n",
       "    <tr>\n",
       "      <td>238</td>\n",
       "      <td>0</td>\n",
       "    </tr>\n",
       "    <tr>\n",
       "      <td>239</td>\n",
       "      <td>0</td>\n",
       "    </tr>\n",
       "    <tr>\n",
       "      <td>240</td>\n",
       "      <td>0</td>\n",
       "    </tr>\n",
       "  </tbody>\n",
       "</table>\n",
       "<p>241 rows × 1 columns</p>\n",
       "</div>"
      ],
      "text/plain": [
       "     continent\n",
       "0            4\n",
       "1            2\n",
       "2            0\n",
       "3            4\n",
       "4            3\n",
       "..         ...\n",
       "236          5\n",
       "237          2\n",
       "238          0\n",
       "239          0\n",
       "240          0\n",
       "\n",
       "[241 rows x 1 columns]"
      ]
     },
     "execution_count": 46,
     "metadata": {},
     "output_type": "execute_result"
    }
   ],
   "source": [
    "x = data.iloc[:, 3:4]\n",
    "x"
   ]
  },
  {
   "cell_type": "markdown",
   "metadata": {},
   "source": [
    "## Clustering"
   ]
  },
  {
   "cell_type": "markdown",
   "metadata": {},
   "source": [
    "Use 4 clusters initially."
   ]
  },
  {
   "cell_type": "code",
   "execution_count": 65,
   "metadata": {
    "scrolled": true
   },
   "outputs": [
    {
     "data": {
      "text/plain": [
       "KMeans(algorithm='auto', copy_x=True, init='k-means++', max_iter=300,\n",
       "       n_clusters=7, n_init=10, n_jobs=None, precompute_distances='auto',\n",
       "       random_state=None, tol=0.0001, verbose=0)"
      ]
     },
     "execution_count": 65,
     "metadata": {},
     "output_type": "execute_result"
    }
   ],
   "source": [
    "cluster = KMeans(7)\n",
    "cluster.fit(x)"
   ]
  },
  {
   "cell_type": "markdown",
   "metadata": {},
   "source": [
    "## Clustering results"
   ]
  },
  {
   "cell_type": "code",
   "execution_count": 66,
   "metadata": {},
   "outputs": [
    {
     "data": {
      "text/plain": [
       "array([5, 0, 2, 5, 4, 4, 4, 0, 3, 0, 1, 0, 1, 6, 5, 1, 4, 0, 2, 4, 2, 2,\n",
       "       0, 4, 0, 5, 5, 4, 5, 4, 5, 5, 3, 3, 5, 0, 0, 2, 2, 4, 3, 0, 2, 2,\n",
       "       2, 2, 1, 3, 2, 2, 5, 5, 5, 5, 0, 0, 4, 4, 2, 5, 4, 5, 2, 3, 2, 2,\n",
       "       4, 4, 2, 4, 1, 3, 4, 4, 1, 2, 4, 0, 4, 2, 2, 2, 2, 2, 4, 5, 5, 5,\n",
       "       1, 3, 0, 6, 5, 4, 5, 4, 0, 4, 0, 0, 6, 4, 0, 0, 4, 0, 4, 5, 4, 0,\n",
       "       0, 0, 0, 2, 0, 0, 1, 5, 0, 4, 0, 0, 0, 2, 2, 5, 4, 0, 2, 4, 4, 4,\n",
       "       0, 5, 2, 4, 4, 2, 6, 5, 1, 4, 2, 4, 0, 4, 0, 1, 2, 2, 5, 6, 2, 0,\n",
       "       2, 1, 2, 1, 2, 5, 1, 4, 4, 0, 1, 1, 0, 0, 5, 1, 3, 0, 1, 1, 4, 5,\n",
       "       0, 4, 3, 0, 1, 0, 4, 4, 2, 2, 0, 2, 2, 2, 0, 6, 6, 1, 2, 5, 4, 2,\n",
       "       2, 5, 4, 2, 3, 4, 4, 4, 2, 5, 6, 0, 5, 2, 2, 0, 0, 0, 0, 1, 5, 2,\n",
       "       0, 0, 2, 2, 4, 3, 5, 0, 4, 5, 3, 5, 5, 0, 1, 1, 1, 0, 2, 2, 2],\n",
       "      dtype=int32)"
      ]
     },
     "execution_count": 66,
     "metadata": {},
     "output_type": "execute_result"
    }
   ],
   "source": [
    "identified_clusters = cluster.fit_predict(x)\n",
    "identified_clusters"
   ]
  },
  {
   "cell_type": "code",
   "execution_count": 67,
   "metadata": {
    "scrolled": true
   },
   "outputs": [
    {
     "data": {
      "text/html": [
       "<div>\n",
       "<style scoped>\n",
       "    .dataframe tbody tr th:only-of-type {\n",
       "        vertical-align: middle;\n",
       "    }\n",
       "\n",
       "    .dataframe tbody tr th {\n",
       "        vertical-align: top;\n",
       "    }\n",
       "\n",
       "    .dataframe thead th {\n",
       "        text-align: right;\n",
       "    }\n",
       "</style>\n",
       "<table border=\"1\" class=\"dataframe\">\n",
       "  <thead>\n",
       "    <tr style=\"text-align: right;\">\n",
       "      <th></th>\n",
       "      <th>name</th>\n",
       "      <th>Longitude</th>\n",
       "      <th>Latitude</th>\n",
       "      <th>continent</th>\n",
       "      <th>Clusters</th>\n",
       "    </tr>\n",
       "  </thead>\n",
       "  <tbody>\n",
       "    <tr>\n",
       "      <td>0</td>\n",
       "      <td>Aruba</td>\n",
       "      <td>-69.982677</td>\n",
       "      <td>12.520880</td>\n",
       "      <td>4</td>\n",
       "      <td>5</td>\n",
       "    </tr>\n",
       "    <tr>\n",
       "      <td>1</td>\n",
       "      <td>Afghanistan</td>\n",
       "      <td>66.004734</td>\n",
       "      <td>33.835231</td>\n",
       "      <td>2</td>\n",
       "      <td>0</td>\n",
       "    </tr>\n",
       "    <tr>\n",
       "      <td>2</td>\n",
       "      <td>Angola</td>\n",
       "      <td>17.537368</td>\n",
       "      <td>-12.293361</td>\n",
       "      <td>0</td>\n",
       "      <td>2</td>\n",
       "    </tr>\n",
       "    <tr>\n",
       "      <td>3</td>\n",
       "      <td>Anguilla</td>\n",
       "      <td>-63.064989</td>\n",
       "      <td>18.223959</td>\n",
       "      <td>4</td>\n",
       "      <td>5</td>\n",
       "    </tr>\n",
       "    <tr>\n",
       "      <td>4</td>\n",
       "      <td>Albania</td>\n",
       "      <td>20.049834</td>\n",
       "      <td>41.142450</td>\n",
       "      <td>3</td>\n",
       "      <td>4</td>\n",
       "    </tr>\n",
       "    <tr>\n",
       "      <td>...</td>\n",
       "      <td>...</td>\n",
       "      <td>...</td>\n",
       "      <td>...</td>\n",
       "      <td>...</td>\n",
       "      <td>...</td>\n",
       "    </tr>\n",
       "    <tr>\n",
       "      <td>236</td>\n",
       "      <td>Samoa</td>\n",
       "      <td>-172.164851</td>\n",
       "      <td>-13.753243</td>\n",
       "      <td>5</td>\n",
       "      <td>1</td>\n",
       "    </tr>\n",
       "    <tr>\n",
       "      <td>237</td>\n",
       "      <td>Yemen</td>\n",
       "      <td>47.586762</td>\n",
       "      <td>15.909280</td>\n",
       "      <td>2</td>\n",
       "      <td>0</td>\n",
       "    </tr>\n",
       "    <tr>\n",
       "      <td>238</td>\n",
       "      <td>South Africa</td>\n",
       "      <td>25.083901</td>\n",
       "      <td>-29.000341</td>\n",
       "      <td>0</td>\n",
       "      <td>2</td>\n",
       "    </tr>\n",
       "    <tr>\n",
       "      <td>239</td>\n",
       "      <td>Zambia</td>\n",
       "      <td>27.774759</td>\n",
       "      <td>-13.458242</td>\n",
       "      <td>0</td>\n",
       "      <td>2</td>\n",
       "    </tr>\n",
       "    <tr>\n",
       "      <td>240</td>\n",
       "      <td>Zimbabwe</td>\n",
       "      <td>29.851441</td>\n",
       "      <td>-19.004204</td>\n",
       "      <td>0</td>\n",
       "      <td>2</td>\n",
       "    </tr>\n",
       "  </tbody>\n",
       "</table>\n",
       "<p>241 rows × 5 columns</p>\n",
       "</div>"
      ],
      "text/plain": [
       "             name   Longitude   Latitude  continent  Clusters\n",
       "0           Aruba  -69.982677  12.520880          4         5\n",
       "1     Afghanistan   66.004734  33.835231          2         0\n",
       "2          Angola   17.537368 -12.293361          0         2\n",
       "3        Anguilla  -63.064989  18.223959          4         5\n",
       "4         Albania   20.049834  41.142450          3         4\n",
       "..            ...         ...        ...        ...       ...\n",
       "236         Samoa -172.164851 -13.753243          5         1\n",
       "237         Yemen   47.586762  15.909280          2         0\n",
       "238  South Africa   25.083901 -29.000341          0         2\n",
       "239        Zambia   27.774759 -13.458242          0         2\n",
       "240      Zimbabwe   29.851441 -19.004204          0         2\n",
       "\n",
       "[241 rows x 5 columns]"
      ]
     },
     "execution_count": 67,
     "metadata": {},
     "output_type": "execute_result"
    }
   ],
   "source": [
    "data_with_clusters = data.copy()\n",
    "data_with_clusters['Clusters'] = identified_clusters\n",
    "data_with_clusters"
   ]
  },
  {
   "cell_type": "markdown",
   "metadata": {},
   "source": [
    "## Plot the data"
   ]
  },
  {
   "cell_type": "code",
   "execution_count": 69,
   "metadata": {
    "scrolled": false
   },
   "outputs": [
    {
     "data": {
      "image/png": "[encoded data removed]",
      "text/plain": [
       "<Figure size 432x288 with 1 Axes>"
      ]
     },
     "metadata": {},
     "output_type": "display_data"
    }
   ],
   "source": [
    "plt.scatter(data_with_clusters['Longitude'], data_with_clusters['Latitude'], c=data_with_clusters['Clusters'], cmap='rainbow')\n",
    "plt.xlim(-180,180)\n",
    "plt.ylim(-90,90)\n",
    "plt.show()"
   ]
  },
  {
   "cell_type": "markdown",
   "metadata": {},
   "source": [
    "Since you already have all the code necessary, go back and play around with the number of clusters. Try 3, 7 and 8 and see if the results match your expectations. "
   ]
  },
  {
   "cell_type": "markdown",
   "metadata": {},
   "source": [
    "Simply go back to the beggining of the <b> Clustering </b> section and change <i> kmeans = KMeans(4) </i> to <i> kmeans = KMeans(3) </i>. Then run the remaining cells until the end."
   ]
  }
 ],
 "metadata": {
  "kernelspec": {
   "display_name": "Python 3",
   "language": "python",
   "name": "python3"
  },
  "language_info": {
   "codemirror_mode": {
    "name": "ipython",
    "version": 3
   },
   "file_extension": ".py",
   "mimetype": "text/x-python",
   "name": "python",
   "nbconvert_exporter": "python",
   "pygments_lexer": "ipython3",
   "version": "3.7.4"
  }
 },
 "nbformat": 4,
 "nbformat_minor": 2
}
